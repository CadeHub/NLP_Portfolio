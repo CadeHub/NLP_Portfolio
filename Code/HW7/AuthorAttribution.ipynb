{
  "nbformat": 4,
  "nbformat_minor": 0,
  "metadata": {
    "colab": {
      "provenance": []
    },
    "kernelspec": {
      "name": "python3",
      "display_name": "Python 3"
    },
    "language_info": {
      "name": "python"
    }
  },
  "cells": [
    {
      "cell_type": "markdown",
      "source": [
        "# Portfolio Assignment 3: Exploring NLTK\n",
        "Author: Six Wires\n",
        "\n",
        "Instructor: Mazidi\n",
        "\n",
        "Subject: CS 4396\n",
        "\n",
        "Date: November 6, 2022"
      ],
      "metadata": {
        "id": "Dl-eHDgJdUEl"
      }
    },
    {
      "cell_type": "code",
      "source": [
        "import nltk\n",
        "from nltk.corpus import wordnet as wn\n",
        "import pandas as pd\n",
        "nltk.download('stopwords')\n",
        "nltk.download('sentiwordnet')\n",
        "nltk.download('wordnet')\n",
        "nltk.download('book')\n",
        "nltk.download('punkt')\n",
        "nltk.download('omw-1.4')"
      ],
      "metadata": {
        "id": "kT0psj3_dhCE"
      },
      "execution_count": null,
      "outputs": []
    },
    {
      "cell_type": "markdown",
      "source": [
        "## Data Exploration\n",
        "Below we will import and perform some basic data exploration on the articles of federation papers. "
      ],
      "metadata": {
        "id": "1MrqzD9Udm6E"
      }
    },
    {
      "cell_type": "code",
      "source": [
        "# read in the data\n",
        "df = pd.read_csv(\"federalist.csv\")\n",
        "\n",
        "# convert author column to categorical type\n",
        "df[\"author\"] = df.author.astype(\"category\")\n",
        "df.head()"
      ],
      "metadata": {
        "colab": {
          "base_uri": "https://localhost:8080/",
          "height": 206
        },
        "id": "MkDnevfWdsmD",
        "outputId": "e036efb7-68fe-42fe-c093-49831466fcd6"
      },
      "execution_count": null,
      "outputs": [
        {
          "output_type": "execute_result",
          "data": {
            "text/plain": [
              "     author                                               text\n",
              "0  HAMILTON  FEDERALIST. No. 1 General Introduction For the...\n",
              "1       JAY  FEDERALIST No. 2 Concerning Dangers from Forei...\n",
              "2       JAY  FEDERALIST No. 3 The Same Subject Continued (C...\n",
              "3       JAY  FEDERALIST No. 4 The Same Subject Continued (C...\n",
              "4       JAY  FEDERALIST No. 5 The Same Subject Continued (C..."
            ],
            "text/html": [
              "\n",
              "  <div id=\"df-9375960f-2a9e-41dc-972d-7e53935fd4cf\">\n",
              "    <div class=\"colab-df-container\">\n",
              "      <div>\n",
              "<style scoped>\n",
              "    .dataframe tbody tr th:only-of-type {\n",
              "        vertical-align: middle;\n",
              "    }\n",
              "\n",
              "    .dataframe tbody tr th {\n",
              "        vertical-align: top;\n",
              "    }\n",
              "\n",
              "    .dataframe thead th {\n",
              "        text-align: right;\n",
              "    }\n",
              "</style>\n",
              "<table border=\"1\" class=\"dataframe\">\n",
              "  <thead>\n",
              "    <tr style=\"text-align: right;\">\n",
              "      <th></th>\n",
              "      <th>author</th>\n",
              "      <th>text</th>\n",
              "    </tr>\n",
              "  </thead>\n",
              "  <tbody>\n",
              "    <tr>\n",
              "      <th>0</th>\n",
              "      <td>HAMILTON</td>\n",
              "      <td>FEDERALIST. No. 1 General Introduction For the...</td>\n",
              "    </tr>\n",
              "    <tr>\n",
              "      <th>1</th>\n",
              "      <td>JAY</td>\n",
              "      <td>FEDERALIST No. 2 Concerning Dangers from Forei...</td>\n",
              "    </tr>\n",
              "    <tr>\n",
              "      <th>2</th>\n",
              "      <td>JAY</td>\n",
              "      <td>FEDERALIST No. 3 The Same Subject Continued (C...</td>\n",
              "    </tr>\n",
              "    <tr>\n",
              "      <th>3</th>\n",
              "      <td>JAY</td>\n",
              "      <td>FEDERALIST No. 4 The Same Subject Continued (C...</td>\n",
              "    </tr>\n",
              "    <tr>\n",
              "      <th>4</th>\n",
              "      <td>JAY</td>\n",
              "      <td>FEDERALIST No. 5 The Same Subject Continued (C...</td>\n",
              "    </tr>\n",
              "  </tbody>\n",
              "</table>\n",
              "</div>\n",
              "      <button class=\"colab-df-convert\" onclick=\"convertToInteractive('df-9375960f-2a9e-41dc-972d-7e53935fd4cf')\"\n",
              "              title=\"Convert this dataframe to an interactive table.\"\n",
              "              style=\"display:none;\">\n",
              "        \n",
              "  <svg xmlns=\"http://www.w3.org/2000/svg\" height=\"24px\"viewBox=\"0 0 24 24\"\n",
              "       width=\"24px\">\n",
              "    <path d=\"M0 0h24v24H0V0z\" fill=\"none\"/>\n",
              "    <path d=\"M18.56 5.44l.94 2.06.94-2.06 2.06-.94-2.06-.94-.94-2.06-.94 2.06-2.06.94zm-11 1L8.5 8.5l.94-2.06 2.06-.94-2.06-.94L8.5 2.5l-.94 2.06-2.06.94zm10 10l.94 2.06.94-2.06 2.06-.94-2.06-.94-.94-2.06-.94 2.06-2.06.94z\"/><path d=\"M17.41 7.96l-1.37-1.37c-.4-.4-.92-.59-1.43-.59-.52 0-1.04.2-1.43.59L10.3 9.45l-7.72 7.72c-.78.78-.78 2.05 0 2.83L4 21.41c.39.39.9.59 1.41.59.51 0 1.02-.2 1.41-.59l7.78-7.78 2.81-2.81c.8-.78.8-2.07 0-2.86zM5.41 20L4 18.59l7.72-7.72 1.47 1.35L5.41 20z\"/>\n",
              "  </svg>\n",
              "      </button>\n",
              "      \n",
              "  <style>\n",
              "    .colab-df-container {\n",
              "      display:flex;\n",
              "      flex-wrap:wrap;\n",
              "      gap: 12px;\n",
              "    }\n",
              "\n",
              "    .colab-df-convert {\n",
              "      background-color: #E8F0FE;\n",
              "      border: none;\n",
              "      border-radius: 50%;\n",
              "      cursor: pointer;\n",
              "      display: none;\n",
              "      fill: #1967D2;\n",
              "      height: 32px;\n",
              "      padding: 0 0 0 0;\n",
              "      width: 32px;\n",
              "    }\n",
              "\n",
              "    .colab-df-convert:hover {\n",
              "      background-color: #E2EBFA;\n",
              "      box-shadow: 0px 1px 2px rgba(60, 64, 67, 0.3), 0px 1px 3px 1px rgba(60, 64, 67, 0.15);\n",
              "      fill: #174EA6;\n",
              "    }\n",
              "\n",
              "    [theme=dark] .colab-df-convert {\n",
              "      background-color: #3B4455;\n",
              "      fill: #D2E3FC;\n",
              "    }\n",
              "\n",
              "    [theme=dark] .colab-df-convert:hover {\n",
              "      background-color: #434B5C;\n",
              "      box-shadow: 0px 1px 3px 1px rgba(0, 0, 0, 0.15);\n",
              "      filter: drop-shadow(0px 1px 2px rgba(0, 0, 0, 0.3));\n",
              "      fill: #FFFFFF;\n",
              "    }\n",
              "  </style>\n",
              "\n",
              "      <script>\n",
              "        const buttonEl =\n",
              "          document.querySelector('#df-9375960f-2a9e-41dc-972d-7e53935fd4cf button.colab-df-convert');\n",
              "        buttonEl.style.display =\n",
              "          google.colab.kernel.accessAllowed ? 'block' : 'none';\n",
              "\n",
              "        async function convertToInteractive(key) {\n",
              "          const element = document.querySelector('#df-9375960f-2a9e-41dc-972d-7e53935fd4cf');\n",
              "          const dataTable =\n",
              "            await google.colab.kernel.invokeFunction('convertToInteractive',\n",
              "                                                     [key], {});\n",
              "          if (!dataTable) return;\n",
              "\n",
              "          const docLinkHtml = 'Like what you see? Visit the ' +\n",
              "            '<a target=\"_blank\" href=https://colab.research.google.com/notebooks/data_table.ipynb>data table notebook</a>'\n",
              "            + ' to learn more about interactive tables.';\n",
              "          element.innerHTML = '';\n",
              "          dataTable['output_type'] = 'display_data';\n",
              "          await google.colab.output.renderOutput(dataTable, element);\n",
              "          const docLink = document.createElement('div');\n",
              "          docLink.innerHTML = docLinkHtml;\n",
              "          element.appendChild(docLink);\n",
              "        }\n",
              "      </script>\n",
              "    </div>\n",
              "  </div>\n",
              "  "
            ]
          },
          "metadata": {},
          "execution_count": 4
        }
      ]
    },
    {
      "cell_type": "code",
      "source": [
        "# get author counts from df\n",
        "AUTHOR_COUNTS = {}\n",
        "\n",
        "for index, row in df.iterrows():\n",
        "  if row[\"author\"] in AUTHOR_COUNTS.keys():\n",
        "    AUTHOR_COUNTS[row[\"author\"]] += 1\n",
        "  else:\n",
        "    AUTHOR_COUNTS[row[\"author\"]] = 1"
      ],
      "metadata": {
        "id": "vc7B7vf-y604"
      },
      "execution_count": null,
      "outputs": []
    },
    {
      "cell_type": "code",
      "source": [
        "# print author counts\n",
        "for author in AUTHOR_COUNTS.keys():\n",
        "  print(f\"{author}: {AUTHOR_COUNTS[author]}\")"
      ],
      "metadata": {
        "colab": {
          "base_uri": "https://localhost:8080/"
        },
        "id": "1bdxmm2l6jsY",
        "outputId": "05d29c2f-0922-465b-f031-eb14fa82ca76"
      },
      "execution_count": null,
      "outputs": [
        {
          "output_type": "stream",
          "name": "stdout",
          "text": [
            "HAMILTON: 49\n",
            "JAY: 5\n",
            "MADISON: 15\n",
            "HAMILTON AND MADISON: 3\n",
            "HAMILTON OR MADISON: 11\n"
          ]
        }
      ]
    },
    {
      "cell_type": "markdown",
      "source": [
        "## Setting up our model\n",
        "### Cleaning the data"
      ],
      "metadata": {
        "id": "dS_VcapD7Fw8"
      }
    },
    {
      "cell_type": "code",
      "source": [
        "from nltk.corpus import stopwords\n",
        "from sklearn.feature_extraction.text import TfidfVectorizer\n",
        "\n",
        "stopwords = set(stopwords.words('english'))\n",
        "NBvectorizer = TfidfVectorizer(stop_words=stopwords)"
      ],
      "metadata": {
        "id": "ThvyLHXsByLg"
      },
      "execution_count": null,
      "outputs": []
    },
    {
      "cell_type": "markdown",
      "source": [
        "### Splitting the data"
      ],
      "metadata": {
        "id": "JO7m2xRaCGEj"
      }
    },
    {
      "cell_type": "code",
      "source": [
        "X = df.text\n",
        "y = df.author"
      ],
      "metadata": {
        "id": "2vsc0m5T7f6E"
      },
      "execution_count": null,
      "outputs": []
    },
    {
      "cell_type": "code",
      "source": [
        "# peek at x\n",
        "X.head()"
      ],
      "metadata": {
        "colab": {
          "base_uri": "https://localhost:8080/"
        },
        "id": "uWbv3eiHIna5",
        "outputId": "6a3e6a45-3ab6-45e7-fc07-535a9fddddca"
      },
      "execution_count": null,
      "outputs": [
        {
          "output_type": "execute_result",
          "data": {
            "text/plain": [
              "0    FEDERALIST. No. 1 General Introduction For the...\n",
              "1    FEDERALIST No. 2 Concerning Dangers from Forei...\n",
              "2    FEDERALIST No. 3 The Same Subject Continued (C...\n",
              "3    FEDERALIST No. 4 The Same Subject Continued (C...\n",
              "4    FEDERALIST No. 5 The Same Subject Continued (C...\n",
              "Name: text, dtype: object"
            ]
          },
          "metadata": {},
          "execution_count": 11
        }
      ]
    },
    {
      "cell_type": "markdown",
      "source": [
        "Break into train and test sets:"
      ],
      "metadata": {
        "id": "JI8odw4cI2Rj"
      }
    },
    {
      "cell_type": "code",
      "source": [
        "from sklearn.model_selection import train_test_split\n",
        "X_train, X_test, y_train, y_test = train_test_split(X, y, test_size=0.20, random_state=1234)\n",
        "X_train.shape"
      ],
      "metadata": {
        "colab": {
          "base_uri": "https://localhost:8080/"
        },
        "id": "qAbrEBBDBnoK",
        "outputId": "1a0957e1-c5e0-427b-cfb8-970d4069e2c7"
      },
      "execution_count": null,
      "outputs": [
        {
          "output_type": "execute_result",
          "data": {
            "text/plain": [
              "(66,)"
            ]
          },
          "metadata": {},
          "execution_count": 12
        }
      ]
    },
    {
      "cell_type": "code",
      "source": [
        "# apply tfidf vectorizer\n",
        "X_train = NBvectorizer.fit_transform(X_train)  # fit and transform the train data\n",
        "X_test = NBvectorizer.transform(X_test)        # transform only the test data"
      ],
      "metadata": {
        "id": "Wub5Vpi1Bakp"
      },
      "execution_count": null,
      "outputs": []
    },
    {
      "cell_type": "markdown",
      "source": [
        "### Shape analysis\n"
      ],
      "metadata": {
        "id": "NIq2LgFsBRQK"
      }
    },
    {
      "cell_type": "code",
      "source": [
        "print('train size:', X_train.shape)\n",
        "print(X_train.toarray()[:5])\n",
        "\n",
        "print('\\ntest size:', X_test.shape)\n",
        "print(X_test.toarray()[:5])\n"
      ],
      "metadata": {
        "colab": {
          "base_uri": "https://localhost:8080/"
        },
        "id": "-_fR37Y0A4Kj",
        "outputId": "4f1124f7-6cd6-4135-903f-fd5d503ced02"
      },
      "execution_count": null,
      "outputs": [
        {
          "output_type": "stream",
          "name": "stdout",
          "text": [
            "train size: (66, 7876)\n",
            "[[0.         0.         0.02956872 ... 0.         0.         0.        ]\n",
            " [0.         0.         0.         ... 0.         0.         0.        ]\n",
            " [0.         0.         0.         ... 0.         0.         0.        ]\n",
            " [0.         0.         0.         ... 0.         0.         0.        ]\n",
            " [0.         0.         0.         ... 0.03741484 0.         0.        ]]\n",
            "\n",
            "test size: (17, 7876)\n",
            "[[0.         0.         0.         ... 0.         0.         0.        ]\n",
            " [0.         0.         0.         ... 0.02314673 0.         0.        ]\n",
            " [0.         0.         0.         ... 0.         0.         0.        ]\n",
            " [0.         0.         0.         ... 0.         0.         0.        ]\n",
            " [0.         0.         0.         ... 0.         0.         0.        ]]\n"
          ]
        }
      ]
    },
    {
      "cell_type": "markdown",
      "source": [
        "### Setting up Naive Bayes model"
      ],
      "metadata": {
        "id": "hQ5ro7m9C8BL"
      }
    },
    {
      "cell_type": "code",
      "source": [
        "from sklearn.naive_bayes import BernoulliNB\n",
        "\n",
        "naive_bayes = BernoulliNB()\n",
        "naive_bayes.fit(X_train, y_train)"
      ],
      "metadata": {
        "id": "ePbN_zQaDMYD"
      },
      "execution_count": null,
      "outputs": []
    },
    {
      "cell_type": "code",
      "source": [
        "from sklearn.metrics import accuracy_score, precision_score, recall_score, f1_score, confusion_matrix\n",
        "# make predictions on the test data\n",
        "pred = naive_bayes.predict(X_test)\n",
        "\n",
        "print('accuracy score: ', accuracy_score(y_test, pred))"
      ],
      "metadata": {
        "colab": {
          "base_uri": "https://localhost:8080/"
        },
        "id": "BIpdLWaWD0vq",
        "outputId": "d70b4cb1-e680-464c-b91f-6216c12843ca"
      },
      "execution_count": null,
      "outputs": [
        {
          "output_type": "stream",
          "name": "stdout",
          "text": [
            "accuracy score:  0.5882352941176471\n"
          ]
        }
      ]
    },
    {
      "cell_type": "markdown",
      "source": [
        "## Attempt 2\n",
        "The accuracy is extremely low since there are a diverse set of words. We will repeat with only the top 1000 words"
      ],
      "metadata": {
        "id": "vcqHDMadEmS5"
      }
    },
    {
      "cell_type": "code",
      "source": [
        "# create new vectors\n",
        "vectorizer_max = TfidfVectorizer(stop_words=stopwords, max_features=1000)\n",
        "\n",
        "# set up X and y\n",
        "X = vectorizer_max.fit_transform(df.text)\n",
        "y = df.author\n",
        "\n",
        "from sklearn.model_selection import train_test_split\n",
        "X_train, X_test, y_train, y_test = train_test_split(X, y, test_size=0.2, train_size=0.8, random_state=1234)"
      ],
      "metadata": {
        "id": "vTTytjC5KQZ4"
      },
      "execution_count": null,
      "outputs": []
    },
    {
      "cell_type": "code",
      "source": [
        "from sklearn.naive_bayes import BernoulliNB\n",
        "\n",
        "naive_bayes2 = BernoulliNB()\n",
        "naive_bayes2.fit(X_train, y_train)"
      ],
      "metadata": {
        "id": "oLVv75zBEvUn"
      },
      "execution_count": null,
      "outputs": []
    },
    {
      "cell_type": "code",
      "source": [
        "# make predictions on the test data\n",
        "pred = naive_bayes2.predict(X_test)\n",
        "\n",
        "print('accuracy score: ', accuracy_score(y_test, pred))"
      ],
      "metadata": {
        "colab": {
          "base_uri": "https://localhost:8080/"
        },
        "id": "xkSWX0bsK4MS",
        "outputId": "aa486de6-3f4e-4eb8-95c4-49edda487668"
      },
      "execution_count": null,
      "outputs": [
        {
          "output_type": "stream",
          "name": "stdout",
          "text": [
            "accuracy score:  0.8823529411764706\n"
          ]
        }
      ]
    },
    {
      "cell_type": "markdown",
      "source": [
        "### Analysis:\n",
        "The accuracy on the bernoulli naive bayes model produced much higher accuracy."
      ],
      "metadata": {
        "id": "UM7Foe9KJpqZ"
      }
    },
    {
      "cell_type": "markdown",
      "source": [
        "### Logistic Regression\n",
        "We'll now attempt to perform the same predictions using logistic regression."
      ],
      "metadata": {
        "id": "q_SKAFLlcy2z"
      }
    },
    {
      "cell_type": "code",
      "source": [
        "# import dependencies\n",
        "from sklearn.linear_model import LogisticRegression\n",
        "from sklearn.metrics import accuracy_score, precision_score, recall_score, f1_score, log_loss"
      ],
      "metadata": {
        "id": "QDeVtuMcKSCB"
      },
      "execution_count": null,
      "outputs": []
    },
    {
      "cell_type": "code",
      "source": [
        "# set up X and y\n",
        "X = df.text\n",
        "y = df.author\n",
        "\n",
        "# divide into train and test sets\n",
        "X_train, X_test, y_train, y_test = train_test_split(X, y, test_size=0.2, train_size=0.8, random_state=1234)\n",
        "\n",
        "# vectorizer\n",
        "vectorizer = TfidfVectorizer(binary=True)\n",
        "X_train = vectorizer.fit_transform(X_train)  # fit and transform the train data\n",
        "X_test = vectorizer.transform(X_test)        # transform only the test data\n",
        "\n",
        "#train\n",
        "classifier = LogisticRegression(solver='lbfgs', class_weight='balanced')\n",
        "classifier.fit(X_train, y_train)\n",
        "\n",
        "# evaluate\n",
        "pred = classifier.predict(X_test)\n",
        "print('accuracy score: ', accuracy_score(y_test, pred))"
      ],
      "metadata": {
        "id": "Bp-kbohBc8He",
        "colab": {
          "base_uri": "https://localhost:8080/"
        },
        "outputId": "e28a7093-bb2e-440b-cf46-c30265aae913"
      },
      "execution_count": null,
      "outputs": [
        {
          "output_type": "stream",
          "name": "stdout",
          "text": [
            "accuracy score:  0.5882352941176471\n"
          ]
        }
      ]
    },
    {
      "cell_type": "markdown",
      "source": [
        "For the accuracy of logistic regression, we got about the same as the classic multinomial naive bayes method."
      ],
      "metadata": {
        "id": "M9pMvZUgK1eh"
      }
    },
    {
      "cell_type": "markdown",
      "source": [
        "### Attempt 2\n",
        "Lets try this again with the multiclass parameter."
      ],
      "metadata": {
        "id": "SLjpCiGOMp1o"
      }
    },
    {
      "cell_type": "code",
      "source": [
        "# set up X and y\n",
        "X = df.text\n",
        "y = df.author\n",
        "\n",
        "# divide into train and test sets\n",
        "X_train, X_test, y_train, y_test = train_test_split(X, y, test_size=0.2, train_size=0.8, random_state=1234)\n",
        "\n",
        "# vectorizer\n",
        "vectorizer = TfidfVectorizer(binary=True)\n",
        "X_train = vectorizer.fit_transform(X_train)  # fit and transform the train data\n",
        "X_test = vectorizer.transform(X_test)        # transform only the test data\n",
        "\n",
        "#train\n",
        "classifier = LogisticRegression(solver='lbfgs', multi_class='multinomial')\n",
        "classifier.fit(X_train, y_train)\n",
        "\n",
        "# evaluate\n",
        "pred = classifier.predict(X_test)\n",
        "print('accuracy score: ', accuracy_score(y_test, pred))"
      ],
      "metadata": {
        "colab": {
          "base_uri": "https://localhost:8080/"
        },
        "id": "1Kcqp1APM0c4",
        "outputId": "972f0167-cab9-4bfb-e7f4-462978252861"
      },
      "execution_count": null,
      "outputs": [
        {
          "output_type": "stream",
          "name": "stdout",
          "text": [
            "accuracy score:  0.5882352941176471\n"
          ]
        }
      ]
    },
    {
      "cell_type": "markdown",
      "source": [
        "As we can see, this didn't improve the overall accuracy."
      ],
      "metadata": {
        "id": "zdSp76W3M_4D"
      }
    },
    {
      "cell_type": "markdown",
      "source": [
        "## Neural Networks\n",
        "We'll now attempt to perform classification using neural networks"
      ],
      "metadata": {
        "id": "FR4tw_ikNWZo"
      }
    },
    {
      "cell_type": "code",
      "source": [
        "from sklearn.pipeline import Pipeline\n",
        "from sklearn.feature_extraction.text import TfidfVectorizer\n",
        "from sklearn.neural_network import MLPClassifier\n",
        "from sklearn.metrics import accuracy_score, precision_score, recall_score, f1_score, log_loss\n",
        "\n",
        "\n",
        "pipe1 = Pipeline([\n",
        "        ('tfidf', TfidfVectorizer()),\n",
        "        ('neuralnet', MLPClassifier(solver='lbfgs', alpha=1e-5,\n",
        "                   hidden_layer_sizes=(15, 7), random_state=1)),\n",
        "         ])\n",
        "\n",
        "pipe1.fit(X, y)"
      ],
      "metadata": {
        "colab": {
          "base_uri": "https://localhost:8080/"
        },
        "id": "xq2ywpxSNUp6",
        "outputId": "567e231b-e21b-42d0-bf91-d358ebe8b231"
      },
      "execution_count": null,
      "outputs": [
        {
          "output_type": "execute_result",
          "data": {
            "text/plain": [
              "Pipeline(steps=[('tfidf', TfidfVectorizer()),\n",
              "                ('neuralnet',\n",
              "                 MLPClassifier(alpha=1e-05, hidden_layer_sizes=(15, 7),\n",
              "                               random_state=1, solver='lbfgs'))])"
            ]
          },
          "metadata": {},
          "execution_count": 34
        }
      ]
    },
    {
      "cell_type": "code",
      "source": [
        "# evaluate on test data\n",
        "pred = pipe1.predict(X)\n",
        "\n",
        "from sklearn import metrics\n",
        "\n",
        "print(\"Confusion matrix:\\n\", metrics.confusion_matrix(y, pred))\n",
        "\n",
        "import numpy as np\n",
        "print(\"\\nOverall accuracy: \", np.mean(pred==y))"
      ],
      "metadata": {
        "colab": {
          "base_uri": "https://localhost:8080/"
        },
        "id": "MrK5VJT0OUvA",
        "outputId": "3b7c8c4c-a0a0-4fe2-e041-4b841361d96a"
      },
      "execution_count": null,
      "outputs": [
        {
          "output_type": "stream",
          "name": "stdout",
          "text": [
            "Confusion matrix:\n",
            " [[49  0  0  0  0]\n",
            " [ 0  3  0  0  0]\n",
            " [ 0  0 11  0  0]\n",
            " [ 0  0  0  5  0]\n",
            " [ 0  0  0  0 15]]\n",
            "\n",
            "Overall accuracy:  1.0\n"
          ]
        }
      ]
    },
    {
      "cell_type": "markdown",
      "source": [
        "As we can see, this had the best accuracy out of all of the models."
      ],
      "metadata": {
        "id": "_cDRVxhrOz8W"
      }
    }
  ]
}