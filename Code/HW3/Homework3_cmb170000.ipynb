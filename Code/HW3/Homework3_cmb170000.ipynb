{
  "cells": [
    {
      "cell_type": "markdown",
      "metadata": {
        "id": "WUViFQx678IZ"
      },
      "source": [
        "# Portfolio Assignment 3: Exploring NLTK\n",
        "Author: Six Wires\n",
        "\n",
        "Instructor: Mazidi\n",
        "\n",
        "Subject: CS 4396\n",
        "\n",
        "Date: September 19, 2022"
      ]
    },
    {
      "cell_type": "code",
      "execution_count": null,
      "metadata": {
        "id": "qb4sxFsw7nCa"
      },
      "outputs": [],
      "source": [
        "import nltk\n",
        "from nltk.corpus import wordnet as wn\n",
        "nltk.download('stopwords')\n",
        "nltk.download('sentiwordnet')\n",
        "nltk.download('wordnet')\n",
        "nltk.download('book')\n",
        "nltk.download('punkt')\n",
        "nltk.download('omw-1.4')"
      ]
    },
    {
      "cell_type": "markdown",
      "metadata": {
        "id": "Zs7LYhBQ8TO0"
      },
      "source": [
        "# WordNET and nouns\n",
        "#### 2: Output all synsets of the word house"
      ]
    },
    {
      "cell_type": "code",
      "execution_count": 52,
      "metadata": {
        "colab": {
          "base_uri": "https://localhost:8080/"
        },
        "id": "EGZiwGHr8l_B",
        "outputId": "a03f3e7f-d0b0-4c99-8406-c39b2576a493"
      },
      "outputs": [
        {
          "name": "stdout",
          "output_type": "stream",
          "text": [
            "[Synset('house.n.01'), Synset('firm.n.01'), Synset('house.n.03'), Synset('house.n.04'), Synset('house.n.05'), Synset('house.n.06'), Synset('house.n.07'), Synset('sign_of_the_zodiac.n.01'), Synset('house.n.09'), Synset('family.n.01'), Synset('theater.n.01'), Synset('house.n.12')]\n"
          ]
        }
      ],
      "source": [
        "# print all synsets of 'house'\n",
        "house_synsets = wn.synsets('house', pos=wn.NOUN)\n",
        "print(house_synsets)"
      ]
    },
    {
      "cell_type": "code",
      "execution_count": 53,
      "metadata": {
        "id": "0raVZuCBbGf9"
      },
      "outputs": [],
      "source": [
        "house = wn.synset(\"house.n.01\")"
      ]
    },
    {
      "cell_type": "markdown",
      "metadata": {
        "id": "F8evg3xt-ozl"
      },
      "source": [
        "### 3: Extract the definition, usage examples, and lemmas of *firm.n.01*.From the selected synset, traverse up the WordNet hierarchy as far as we can, outputting the synsets as we go."
      ]
    },
    {
      "cell_type": "code",
      "execution_count": 54,
      "metadata": {
        "colab": {
          "base_uri": "https://localhost:8080/",
          "height": 35
        },
        "id": "NgekNkZK-lZJ",
        "outputId": "567a0673-f4df-45ad-c4e3-3edc4f449f58"
      },
      "outputs": [
        {
          "data": {
            "application/vnd.google.colaboratory.intrinsic+json": {
              "type": "string"
            },
            "text/plain": [
              "'a dwelling that serves as living quarters for one or more families'"
            ]
          },
          "execution_count": 54,
          "metadata": {},
          "output_type": "execute_result"
        }
      ],
      "source": [
        "# get definition of firm.n.01 synset\n",
        "house.definition()"
      ]
    },
    {
      "cell_type": "code",
      "execution_count": 55,
      "metadata": {
        "colab": {
          "base_uri": "https://localhost:8080/"
        },
        "id": "idk-g2e-_pqy",
        "outputId": "c6ba3580-7945-4ee5-c8e7-c9f90c3ab99b"
      },
      "outputs": [
        {
          "data": {
            "text/plain": [
              "['he has a house on Cape Cod', 'she felt she had to get out of the house']"
            ]
          },
          "execution_count": 55,
          "metadata": {},
          "output_type": "execute_result"
        }
      ],
      "source": [
        "# get examples of firm.n.01 synset\n",
        "house.examples()"
      ]
    },
    {
      "cell_type": "code",
      "execution_count": 56,
      "metadata": {
        "colab": {
          "base_uri": "https://localhost:8080/"
        },
        "id": "g07WItL9ADy-",
        "outputId": "7452c7fe-1ae0-41e2-cf4b-6b9b21526d9c"
      },
      "outputs": [
        {
          "data": {
            "text/plain": [
              "[Lemma('house.n.01.house')]"
            ]
          },
          "execution_count": 56,
          "metadata": {},
          "output_type": "execute_result"
        }
      ],
      "source": [
        "# get lemmas of firm.n.01 synset\n",
        "house.lemmas()"
      ]
    },
    {
      "cell_type": "markdown",
      "metadata": {
        "id": "lde4YuTvb7Fm"
      },
      "source": [
        "Looking at the heirarchy for nouns"
      ]
    },
    {
      "cell_type": "code",
      "execution_count": 61,
      "metadata": {
        "colab": {
          "base_uri": "https://localhost:8080/"
        },
        "id": "-fVlNvBZALUj",
        "outputId": "17ee6079-8014-410a-e23d-4cdc96e8c0a1"
      },
      "outputs": [
        {
          "name": "stdout",
          "output_type": "stream",
          "text": [
            "Synset('building.n.01')\n",
            "Synset('structure.n.01')\n",
            "Synset('artifact.n.01')\n",
            "Synset('whole.n.02')\n",
            "Synset('object.n.01')\n",
            "Synset('physical_entity.n.01')\n",
            "Synset('entity.n.01')\n"
          ]
        }
      ],
      "source": [
        "# \n",
        "hyp = house.hypernyms()[0]\n",
        "top = wn.synset('entity.n.01')\n",
        "while hyp:\n",
        "    print(hyp)\n",
        "    if hyp == top:\n",
        "        break\n",
        "    if hyp.hypernyms():\n",
        "        hyp = hyp.hypernyms()[0]"
      ]
    },
    {
      "cell_type": "markdown",
      "metadata": {
        "id": "1wGSrJY6URgc"
      },
      "source": [
        "#### Reflection:\n",
        "It seems that nouns are arranged in a n-ary top-down tree type structure. All nouns start at entity, then get more narrow as they become more specific. There are splits for the tree at each specific level, i.e. house is a building, but so is a hospital."
      ]
    },
    {
      "cell_type": "markdown",
      "metadata": {
        "id": "Qr16fjItCMvi"
      },
      "source": [
        "### 4: Output the following (or an empty list if none exist): hypernyms, hyponyms, meronyms holonyms, antonym. \n"
      ]
    },
    {
      "cell_type": "code",
      "execution_count": 60,
      "metadata": {
        "colab": {
          "base_uri": "https://localhost:8080/"
        },
        "id": "C5mcn1DpCD-V",
        "outputId": "1d57cc2f-0cb1-4f77-daa1-696fbdfc6b27"
      },
      "outputs": [
        {
          "name": "stdout",
          "output_type": "stream",
          "text": [
            "Synset('house.n.01') [Synset('building.n.01'), Synset('dwelling.n.01')]\n",
            "Synset('firm.n.01') [Synset('business.n.01')]\n",
            "Synset('house.n.03') [Synset('community.n.01')]\n",
            "Synset('house.n.04') [Synset('audience.n.01')]\n",
            "Synset('house.n.05') [Synset('legislature.n.01')]\n",
            "Synset('house.n.06') [Synset('family.n.04')]\n",
            "Synset('house.n.07') [Synset('play.n.08')]\n",
            "Synset('sign_of_the_zodiac.n.01') [Synset('region.n.01')]\n",
            "Synset('house.n.09') [Synset('management.n.02')]\n",
            "Synset('family.n.01') [Synset('unit.n.03')]\n",
            "Synset('theater.n.01') [Synset('building.n.01')]\n",
            "Synset('house.n.12') [Synset('building.n.01')]\n"
          ]
        }
      ],
      "source": [
        "# output hypernyms\n",
        "for ss in house_synsets:\n",
        "  print(ss, ss.hypernyms())"
      ]
    },
    {
      "cell_type": "code",
      "execution_count": 59,
      "metadata": {
        "colab": {
          "base_uri": "https://localhost:8080/"
        },
        "id": "4f0w2l5TCysM",
        "outputId": "b89c1b2d-dfb9-4665-b594-a6966e249361"
      },
      "outputs": [
        {
          "name": "stdout",
          "output_type": "stream",
          "text": [
            "Synset('house.n.01') [Synset('beach_house.n.01'), Synset('boarding_house.n.01'), Synset('bungalow.n.01'), Synset('cabin.n.02'), Synset('chalet.n.01'), Synset('chapterhouse.n.02'), Synset('country_house.n.01'), Synset('detached_house.n.01'), Synset('dollhouse.n.01'), Synset('duplex_house.n.01'), Synset('farmhouse.n.01'), Synset('gatehouse.n.01'), Synset('guesthouse.n.01'), Synset('hacienda.n.02'), Synset('lodge.n.04'), Synset('lodging_house.n.01'), Synset('maisonette.n.02'), Synset('mansion.n.02'), Synset('ranch_house.n.01'), Synset('residence.n.02'), Synset('row_house.n.01'), Synset('safe_house.n.01'), Synset('saltbox.n.01'), Synset('sod_house.n.01'), Synset('solar_house.n.01'), Synset('tract_house.n.01'), Synset('villa.n.02')]\n",
            "Synset('firm.n.01') [Synset('accounting_firm.n.01'), Synset('auction_house.n.01'), Synset('consulting_firm.n.01'), Synset('corporation.n.01'), Synset('dealer.n.02'), Synset('law_firm.n.01'), Synset('publisher.n.01')]\n",
            "Synset('house.n.03') []\n",
            "Synset('house.n.04') []\n",
            "Synset('house.n.05') [Synset('dail_eireann.n.01'), Synset('house_of_burgesses.n.01'), Synset('house_of_commons.n.01'), Synset('house_of_lords.n.01'), Synset('seanad_eireann.n.01'), Synset('united_states_house_of_representatives.n.01')]\n",
            "Synset('house.n.06') [Synset('medici.n.01'), Synset('royalty.n.02')]\n",
            "Synset('house.n.07') []\n",
            "Synset('sign_of_the_zodiac.n.01') []\n",
            "Synset('house.n.09') []\n",
            "Synset('family.n.01') [Synset('broken_home.n.01'), Synset('extended_family.n.01'), Synset('foster_family.n.01'), Synset('foster_home.n.01'), Synset('menage_a_trois.n.01'), Synset('nuclear_family.n.01')]\n",
            "Synset('theater.n.01') [Synset('arena_theater.n.01'), Synset('cinema.n.02'), Synset('dinner_theater.n.01'), Synset('home_theater.n.01'), Synset('little_theater.n.01'), Synset('music_hall.n.01'), Synset('opera.n.03')]\n",
            "Synset('house.n.12') [Synset('bathhouse.n.02'), Synset('courthouse.n.02'), Synset('field_house.n.01'), Synset('icehouse.n.01'), Synset('meat_house.n.02'), Synset('oast_house.n.01'), Synset('pump_house.n.01'), Synset('smokehouse.n.01'), Synset('stash_house.n.01')]\n"
          ]
        }
      ],
      "source": [
        "# output hyponyms\n",
        "for ss in house_synsets:\n",
        "  print(ss, ss.hyponyms())"
      ]
    },
    {
      "cell_type": "code",
      "execution_count": 58,
      "metadata": {
        "colab": {
          "base_uri": "https://localhost:8080/"
        },
        "id": "QPpUTq-pC2wq",
        "outputId": "b307e22d-a90c-4b2d-cbbc-ce6733b180ca"
      },
      "outputs": [
        {
          "name": "stdout",
          "output_type": "stream",
          "text": [
            "Synset('house.n.01') []\n",
            "Synset('firm.n.01') []\n",
            "Synset('house.n.03') []\n",
            "Synset('house.n.04') []\n",
            "Synset('house.n.05') []\n",
            "Synset('house.n.06') []\n",
            "Synset('house.n.07') []\n",
            "Synset('sign_of_the_zodiac.n.01') []\n",
            "Synset('house.n.09') []\n",
            "Synset('family.n.01') []\n",
            "Synset('theater.n.01') []\n",
            "Synset('house.n.12') []\n"
          ]
        }
      ],
      "source": [
        "# output meronyms\n",
        "for ss in house_synsets:\n",
        "  print(ss, ss.member_meronyms())"
      ]
    },
    {
      "cell_type": "code",
      "execution_count": 57,
      "metadata": {
        "colab": {
          "base_uri": "https://localhost:8080/"
        },
        "id": "gZtJzP-0C7XO",
        "outputId": "44cdec92-fd31-46bf-b5fd-fb4585cc271f"
      },
      "outputs": [
        {
          "name": "stdout",
          "output_type": "stream",
          "text": [
            "Synset('house.n.01') []\n",
            "Synset('firm.n.01') []\n",
            "Synset('house.n.03') []\n",
            "Synset('house.n.04') []\n",
            "Synset('house.n.05') []\n",
            "Synset('house.n.06') []\n",
            "Synset('house.n.07') []\n",
            "Synset('sign_of_the_zodiac.n.01') []\n",
            "Synset('house.n.09') []\n",
            "Synset('family.n.01') []\n",
            "Synset('theater.n.01') []\n",
            "Synset('house.n.12') []\n"
          ]
        }
      ],
      "source": [
        "# output holonyms\n",
        "for ss in house_synsets:\n",
        "  print(ss, ss.member_holonyms())"
      ]
    },
    {
      "cell_type": "markdown",
      "metadata": {
        "id": "nqDVIkKsISeQ"
      },
      "source": [
        "# WordNET and verbs"
      ]
    },
    {
      "cell_type": "markdown",
      "metadata": {
        "id": "dTYbyaJmJATY"
      },
      "source": [
        "### 5. Output all the synsets of the verb *throw*"
      ]
    },
    {
      "cell_type": "code",
      "execution_count": 48,
      "metadata": {
        "colab": {
          "base_uri": "https://localhost:8080/"
        },
        "id": "_7zl46VEIWDt",
        "outputId": "18feb4e5-1469-432b-d1d8-4515bbcf8cc8"
      },
      "outputs": [
        {
          "name": "stdout",
          "output_type": "stream",
          "text": [
            "[Synset('throw.v.01'), Synset('throw.v.02'), Synset('shed.v.01'), Synset('throw.v.04'), Synset('give.v.07'), Synset('throw.v.06'), Synset('project.v.10'), Synset('throw.v.08'), Synset('bewilder.v.02'), Synset('hurl.v.03'), Synset('hold.v.03'), Synset('throw.v.12'), Synset('throw.v.13'), Synset('throw.v.14'), Synset('confuse.v.02')]\n"
          ]
        }
      ],
      "source": [
        "# print all synsets of 'throw'\n",
        "throw_synsets = wn.synsets('throw', pos=wn.VERB)\n",
        "print(throw_synsets)"
      ]
    },
    {
      "cell_type": "code",
      "execution_count": 43,
      "metadata": {
        "id": "8SrpR5inajhx"
      },
      "outputs": [],
      "source": [
        "# set throw variable\n",
        "throw = wn.synset(\"throw.v.01\")"
      ]
    },
    {
      "cell_type": "markdown",
      "metadata": {
        "id": "kJls_nESJgal"
      },
      "source": [
        "### 6: Extract the definition, usage examples, and lemmas of throw.v.01.From your selected synset, traverse up the WordNet hierarchy as far as you can, outputting the synsets as you go. Write a couple of sentences observing the way that WordNet is organized for nouns."
      ]
    },
    {
      "cell_type": "code",
      "execution_count": 44,
      "metadata": {
        "colab": {
          "base_uri": "https://localhost:8080/",
          "height": 35
        },
        "id": "VPvIC8RsTZyp",
        "outputId": "59c49f8a-0b22-4885-c8c4-731a89017607"
      },
      "outputs": [
        {
          "data": {
            "application/vnd.google.colaboratory.intrinsic+json": {
              "type": "string"
            },
            "text/plain": [
              "'propel through the air'"
            ]
          },
          "execution_count": 44,
          "metadata": {},
          "output_type": "execute_result"
        }
      ],
      "source": [
        "# get definition of throw.v.01 synset\n",
        "\n",
        "throw.definition()"
      ]
    },
    {
      "cell_type": "code",
      "execution_count": 45,
      "metadata": {
        "colab": {
          "base_uri": "https://localhost:8080/"
        },
        "id": "F_sQ6VsITqGF",
        "outputId": "24abe893-bd8a-4049-e198-3fef86be73e7"
      },
      "outputs": [
        {
          "data": {
            "text/plain": [
              "['throw a frisbee']"
            ]
          },
          "execution_count": 45,
          "metadata": {},
          "output_type": "execute_result"
        }
      ],
      "source": [
        "# get examples of throw.v.01 synset\n",
        "throw.examples()"
      ]
    },
    {
      "cell_type": "code",
      "execution_count": 46,
      "metadata": {
        "colab": {
          "base_uri": "https://localhost:8080/"
        },
        "id": "9xCcdS46TqU7",
        "outputId": "1311feca-bd78-456d-91b4-756866f76c04"
      },
      "outputs": [
        {
          "data": {
            "text/plain": [
              "[Lemma('throw.v.01.throw')]"
            ]
          },
          "execution_count": 46,
          "metadata": {},
          "output_type": "execute_result"
        }
      ],
      "source": [
        "# get lemmas of throw.v.01 synset\n",
        "throw.lemmas()"
      ]
    },
    {
      "cell_type": "markdown",
      "metadata": {
        "id": "5eNtZqRTc5Xc"
      },
      "source": [
        "To first find the heirarchy, we must find the top level hypernym for verbs."
      ]
    },
    {
      "cell_type": "code",
      "execution_count": 63,
      "metadata": {
        "colab": {
          "base_uri": "https://localhost:8080/"
        },
        "id": "afl016gDc4_v",
        "outputId": "a7540947-96c4-4fcc-a53b-e34a2e1d13d2"
      },
      "outputs": [
        {
          "name": "stdout",
          "output_type": "stream",
          "text": [
            "Synset('breathe.v.01')\n",
            "Synset('respire.v.02')\n",
            "Synset('respire.v.01')\n",
            "Synset('choke.v.01')\n",
            "Synset('hyperventilate.v.02')\n",
            "Synset('hyperventilate.v.01')\n",
            "Synset('aspirate.v.03')\n",
            "Synset('burp.v.01')\n",
            "Synset('force_out.v.08')\n",
            "Synset('hiccup.v.01')\n",
            "Synset('sigh.v.01')\n"
          ]
        }
      ],
      "source": [
        "i = 1\n",
        "for synset in list(wn.all_synsets('v')):\n",
        "    print(synset)\n",
        "    # comment out two lines below to see all of them instead of 10\n",
        "    if i > 10:\n",
        "        break\n",
        "    i += 1"
      ]
    },
    {
      "cell_type": "code",
      "execution_count": 65,
      "metadata": {
        "colab": {
          "base_uri": "https://localhost:8080/"
        },
        "id": "XCOU1s-TU5Mz",
        "outputId": "97b02c7b-dd27-4cb2-f86a-188b4ad33947"
      },
      "outputs": [
        {
          "name": "stdout",
          "output_type": "stream",
          "text": [
            "Synset('propel.v.01')\n",
            "Synset('move.v.02')\n"
          ]
        }
      ],
      "source": [
        "hyp = throw.hypernyms()[0]\n",
        "top = wn.synset('move.v.02')\n",
        "while hyp:\n",
        "    print(hyp)\n",
        "    if hyp == top:\n",
        "        break\n",
        "    if hyp.hypernyms():\n",
        "        hyp = hyp.hypernyms()[0]"
      ]
    },
    {
      "cell_type": "markdown",
      "metadata": {
        "id": "vA7ZAZFnVKGx"
      },
      "source": [
        "#### Reflection:\n",
        "It seems that verbs are arranged in a more graphical structure. As far as I can see here, there aren't as many levels or layers to the heirarchy for this verb."
      ]
    },
    {
      "cell_type": "markdown",
      "metadata": {
        "id": "8JWxocyeWRpc"
      },
      "source": [
        "### 7: Finding different word forms with morphy"
      ]
    },
    {
      "cell_type": "code",
      "execution_count": 37,
      "metadata": {
        "colab": {
          "base_uri": "https://localhost:8080/"
        },
        "id": "YOfCFVbpWWLj",
        "outputId": "f6e505c2-8939-4e89-afd6-0998301fac07"
      },
      "outputs": [
        {
          "name": "stdout",
          "output_type": "stream",
          "text": [
            "shed\n",
            "cast\n",
            "cast_off\n",
            "shake_off\n",
            "throw_off\n",
            "throw_away\n",
            "drop\n",
            "thrust\n",
            "give\n",
            "flip\n",
            "switch\n",
            "project\n",
            "cast\n",
            "contrive\n",
            "bewilder\n",
            "bemuse\n",
            "discombobulate\n",
            "hurl\n",
            "hold\n",
            "have\n",
            "make\n",
            "give\n",
            "confuse\n",
            "fox\n",
            "befuddle\n",
            "fuddle\n",
            "bedevil\n",
            "confound\n",
            "discombobulate\n"
          ]
        }
      ],
      "source": [
        "# use morphy output different synsets\n",
        "# iterate over synsets\n",
        "output_synsets = wn.synsets('throw', pos=wn.VERB)\n",
        "for sense in output_synsets:\n",
        "    lemmas = [l.name() for l in sense.lemmas()]\n",
        "    for lemma in lemmas:\n",
        "      if lemma != 'throw':\n",
        "        print( wn.morphy(lemma))"
      ]
    },
    {
      "cell_type": "code",
      "execution_count": 70,
      "metadata": {
        "colab": {
          "base_uri": "https://localhost:8080/"
        },
        "id": "IBo8jPAyghHb",
        "outputId": "df5e4fd2-65bf-4710-9cf4-dbb56f466a34"
      },
      "outputs": [
        {
          "name": "stdout",
          "output_type": "stream",
          "text": [
            "Synset: throw.v.01(propel through the air)  \n",
            "\t Lemmas:['throw']\n",
            "Synset: throw.v.02(move violently, energetically, or carelessly)  \n",
            "\t Lemmas:['throw']\n",
            "Synset: shed.v.01(get rid of)  \n",
            "\t Lemmas:['shed', 'cast', 'cast_off', 'shake_off', 'throw', 'throw_off', 'throw_away', 'drop']\n",
            "Synset: throw.v.04(place or put with great energy)  \n",
            "\t Lemmas:['throw', 'thrust']\n",
            "Synset: give.v.07(convey or communicate; of a smile, a look, a physical gesture)  \n",
            "\t Lemmas:['give', 'throw']\n",
            "Synset: throw.v.06(cause to go on or to be engaged or set in operation)  \n",
            "\t Lemmas:['throw', 'flip', 'switch']\n",
            "Synset: project.v.10(put or send forth)  \n",
            "\t Lemmas:['project', 'cast', 'contrive', 'throw']\n",
            "Synset: throw.v.08(to put into a state or activity hastily, suddenly, or carelessly)  \n",
            "\t Lemmas:['throw']\n",
            "Synset: bewilder.v.02(cause to be confused emotionally)  \n",
            "\t Lemmas:['bewilder', 'bemuse', 'discombobulate', 'throw']\n",
            "Synset: hurl.v.03(utter with force; utter vehemently)  \n",
            "\t Lemmas:['hurl', 'throw']\n",
            "Synset: hold.v.03(organize or be responsible for)  \n",
            "\t Lemmas:['hold', 'throw', 'have', 'make', 'give']\n",
            "Synset: throw.v.12(make on a potter's wheel)  \n",
            "\t Lemmas:['throw']\n",
            "Synset: throw.v.13(cause to fall off)  \n",
            "\t Lemmas:['throw']\n",
            "Synset: throw.v.14(throw (a die) out onto a flat surface)  \n",
            "\t Lemmas:['throw']\n",
            "Synset: confuse.v.02(be confusing or perplexing to; cause to be unable to think clearly)  \n",
            "\t Lemmas:['confuse', 'throw', 'fox', 'befuddle', 'fuddle', 'bedevil', 'confound', 'discombobulate']\n"
          ]
        }
      ],
      "source": [
        "# iterate over synsets\n",
        "exercise_synsets = throw_synsets\n",
        "for sense in exercise_synsets:\n",
        "    lemmas = [l.name() for l in sense.lemmas()]\n",
        "    print(\"Synset: \" + sense.name() + \"(\" +sense.definition() + \")  \\n\\t Lemmas:\" + str(lemmas))"
      ]
    },
    {
      "cell_type": "markdown",
      "metadata": {
        "id": "PrnS96Hzds_B"
      },
      "source": [
        "### 8: Running the similarity test on 2 synsets\n",
        "First, we'll run the Wu-Palmer similarity metric and then the Lesk algorithm."
      ]
    },
    {
      "cell_type": "code",
      "execution_count": 72,
      "metadata": {
        "id": "inBTKmgwkSW7"
      },
      "outputs": [],
      "source": [
        "# import lesk\n",
        "from nltk.wsd import lesk"
      ]
    },
    {
      "cell_type": "code",
      "execution_count": 76,
      "metadata": {
        "colab": {
          "base_uri": "https://localhost:8080/"
        },
        "id": "sak6kQiXgLUt",
        "outputId": "edd2886e-f82c-4a61-e26d-92d69dae9487"
      },
      "outputs": [
        {
          "data": {
            "text/plain": [
              "0.2"
            ]
          },
          "execution_count": 76,
          "metadata": {},
          "output_type": "execute_result"
        }
      ],
      "source": [
        "# run the similarity metric\n",
        "hurl = wn.synset('hurl.v.03')\n",
        "shed = wn.synset('shed.v.01')\n",
        "shed.path_similarity(hurl)"
      ]
    },
    {
      "cell_type": "code",
      "execution_count": 78,
      "metadata": {
        "colab": {
          "base_uri": "https://localhost:8080/"
        },
        "id": "rkXlySXnipXO",
        "outputId": "a2253133-8e58-42b8-b617-fcc2eefd1f4b"
      },
      "outputs": [
        {
          "name": "stdout",
          "output_type": "stream",
          "text": [
            "Synset('spill.v.03')\n",
            "Synset('lunge.v.01')\n"
          ]
        }
      ],
      "source": [
        "# run the lesk algorithm\n",
        "sent = ['Chucked', 'the', 'ball', 'over', 'the', 'fence', '.']\n",
        "print(lesk(sent, 'shed', 'v'))\n",
        "print(lesk(sent, 'hurl', 'v'))"
      ]
    },
    {
      "cell_type": "markdown",
      "metadata": {
        "id": "6MVIxCUsknV7"
      },
      "source": [
        "#### Reflection:\n",
        "Since the two words that I chose didn't have a high similarity, the overlapping words didn't have a very high correlation. I think if I had chosen more similar words to throw, I may have gotten different results."
      ]
    },
    {
      "cell_type": "markdown",
      "metadata": {
        "id": "F96N58eKlAav"
      },
      "source": [
        "### 9: SentiWordNet\n",
        "SentiWordNet is a library that is used for text interpretation surrounding opinion mining. It is useful in detetecting tone and meaning in text. It can be used in applications like Grammarly, which analyze and provide feedback on the tone and intention of text."
      ]
    },
    {
      "cell_type": "code",
      "execution_count": 79,
      "metadata": {
        "id": "ipNfptw3lOxN"
      },
      "outputs": [],
      "source": [
        "from nltk.corpus import sentiwordnet as swn"
      ]
    },
    {
      "cell_type": "code",
      "execution_count": 86,
      "metadata": {
        "colab": {
          "base_uri": "https://localhost:8080/",
          "height": 35
        },
        "id": "R4rodSXsl_vG",
        "outputId": "43f67ca7-b4aa-4362-ba97-6824c6dbcfd3"
      },
      "outputs": [
        {
          "data": {
            "application/vnd.google.colaboratory.intrinsic+json": {
              "type": "string"
            },
            "text/plain": [
              "'extreme mental distress'"
            ]
          },
          "execution_count": 86,
          "metadata": {},
          "output_type": "execute_result"
        }
      ],
      "source": [
        "# choose a word\n",
        "word = \"anguish\"\n",
        "\n",
        "# find synset\n",
        "wn.synsets(\"anguish\")[0].definition()"
      ]
    },
    {
      "cell_type": "markdown",
      "metadata": {
        "id": "Iz622xPvmgou"
      },
      "source": [
        "Output the senti-synsets for the word anguish, and output the polarity scores for each word."
      ]
    },
    {
      "cell_type": "code",
      "execution_count": 92,
      "metadata": {
        "colab": {
          "base_uri": "https://localhost:8080/"
        },
        "id": "GG-BYsNjmmBD",
        "outputId": "8cb9ac01-80d6-4a8d-a40a-7f44622c63d2"
      },
      "outputs": [
        {
          "name": "stdout",
          "output_type": "stream",
          "text": [
            "<anguish.n.01: PosScore=0.0 NegScore=0.625>\n",
            "Positive score:  0.0\n",
            "Negative score:  0.625\n",
            "Objective score: 0.375\n"
          ]
        }
      ],
      "source": [
        "anguish = swn.senti_synset('anguish.n.01')\n",
        "print(anguish)\n",
        "print(\"Positive score: \", anguish.pos_score())\n",
        "print(\"Negative score: \", anguish.neg_score())\n",
        "print(\"Objective score:\", anguish.obj_score())"
      ]
    },
    {
      "cell_type": "markdown",
      "metadata": {
        "id": "gAhwRBZznskB"
      },
      "source": [
        "Display the list of senti synsets for the word"
      ]
    },
    {
      "cell_type": "code",
      "execution_count": 93,
      "metadata": {
        "colab": {
          "base_uri": "https://localhost:8080/"
        },
        "id": "BCfhU5snns9l",
        "outputId": "abfbd565-a365-4607-fb3c-529c3a07f325"
      },
      "outputs": [
        {
          "name": "stdout",
          "output_type": "stream",
          "text": [
            "<anguish.n.01: PosScore=0.0 NegScore=0.625>\n",
            "<anguish.n.02: PosScore=0.0 NegScore=0.625>\n",
            "<anguish.v.01: PosScore=0.0 NegScore=0.5>\n",
            "<pain.v.02: PosScore=0.0 NegScore=0.375>\n"
          ]
        }
      ],
      "source": [
        "senti_list = list(swn.senti_synsets('anguish')) \n",
        "for item in senti_list:\n",
        "    print(item)"
      ]
    },
    {
      "cell_type": "markdown",
      "metadata": {
        "id": "z5gbPWkdn_If"
      },
      "source": [
        "Display the polarity of a sentence:"
      ]
    },
    {
      "cell_type": "code",
      "execution_count": 98,
      "metadata": {
        "colab": {
          "base_uri": "https://localhost:8080/"
        },
        "id": "CSigm0Qwn_lZ",
        "outputId": "91f8b7d0-112f-4df5-f89c-c19dd698147c"
      },
      "outputs": [
        {
          "name": "stdout",
          "output_type": "stream",
          "text": [
            "i: positive\n",
            "am: positive\n",
            "not: negative\n",
            "good: negative\n",
            "at: negative\n",
            "playing: negative\n",
            "guitar: negative\n"
          ]
        }
      ],
      "source": [
        "sent = 'i am not good at playing guitar'\n",
        "neg = 0\n",
        "pos = 0\n",
        "tokens = sent.split()\n",
        "for token in tokens:\n",
        "    syn_list = list(swn.senti_synsets(token))\n",
        "    if syn_list:\n",
        "        syn = syn_list[0]\n",
        "        neg += syn.neg_score()\n",
        "        pos += syn.pos_score()\n",
        "        if neg > pos:\n",
        "          print(f\"{token}: negative\")\n",
        "        else:\n",
        "          print(f\"{token}: positive\")"
      ]
    },
    {
      "cell_type": "markdown",
      "metadata": {
        "id": "MbOSxVebsvQj"
      },
      "source": [
        "#### Reflection:\n",
        "You can see that the *not* in the sentence automatically reverses the polarity of the rest of the words. Although good would probably normally warrant a positive score, the presence of the word not cascades through the rest of the sentence. This could be used to help with intention detection with documents."
      ]
    },
    {
      "cell_type": "markdown",
      "metadata": {
        "id": "S-67uF7utaUT"
      },
      "source": [
        "### 10: Collocation\n",
        "A collocation is the effect of two or more words that appear together that change their meaning as a whole."
      ]
    },
    {
      "cell_type": "code",
      "execution_count": null,
      "metadata": {
        "id": "5chSLWeotZpm"
      },
      "outputs": [],
      "source": [
        "# import nltk books\n",
        "from nltk.book import *"
      ]
    },
    {
      "cell_type": "code",
      "execution_count": 100,
      "metadata": {
        "colab": {
          "base_uri": "https://localhost:8080/"
        },
        "id": "1vCFm5_kvn3m",
        "outputId": "09239af9-c3f0-4c24-d119-d8b6e6af3852"
      },
      "outputs": [
        {
          "name": "stdout",
          "output_type": "stream",
          "text": [
            "United States; fellow citizens; years ago; four years; Federal\n",
            "Government; General Government; American people; Vice President; God\n",
            "bless; Chief Justice; one another; fellow Americans; Old World;\n",
            "Almighty God; Fellow citizens; Chief Magistrate; every citizen; Indian\n",
            "tribes; public debt; foreign nations\n"
          ]
        }
      ],
      "source": [
        "# output collocations\n",
        "text4.collocations()"
      ]
    },
    {
      "cell_type": "code",
      "execution_count": 115,
      "metadata": {
        "id": "bN0m8PAcwEOp"
      },
      "outputs": [],
      "source": [
        "# output mutual information\n",
        "text = ' '.join(text4.tokens)"
      ]
    },
    {
      "cell_type": "code",
      "execution_count": 119,
      "metadata": {
        "colab": {
          "base_uri": "https://localhost:8080/"
        },
        "id": "FzjFbUDWwgXH",
        "outputId": "62be29ab-cfaa-4353-8d02-183c51752daf"
      },
      "outputs": [
        {
          "name": "stdout",
          "output_type": "stream",
          "text": [
            "p(God bless) =  0.0016957605985037406\n",
            "p(God) =  0.011172069825436408\n",
            "p(bless) =  0.0085785536159601\n",
            "pmi =  4.145157780720282\n"
          ]
        }
      ],
      "source": [
        "import math\n",
        "vocab = len(set(text4))\n",
        "\n",
        "# pmi for God bless\n",
        "god = text.count('God bless')/vocab\n",
        "print(\"p(God bless) = \",god )\n",
        "\n",
        "b = text.count('God')/vocab\n",
        "print(\"p(God) = \", b)\n",
        "\n",
        "g = text.count('bless')/vocab\n",
        "print('p(bless) = ', g)\n",
        "pmi = math.log2(god / (b * g))\n",
        "print('pmi = ', pmi)"
      ]
    },
    {
      "cell_type": "code",
      "execution_count": 120,
      "metadata": {
        "colab": {
          "base_uri": "https://localhost:8080/"
        },
        "id": "BtFI4qomzHb4",
        "outputId": "11bc40e2-53ad-4a4e-8212-a3e3ec8a4852"
      },
      "outputs": [
        {
          "name": "stdout",
          "output_type": "stream",
          "text": [
            "p(one another) =  0.0021945137157107233\n",
            "p(one) =  0.0600498753117207\n",
            "p(another) =  0.006683291770573566\n",
            "pmi =  2.4510373676494677\n"
          ]
        }
      ],
      "source": [
        "# pmi for God bless\n",
        "god = text.count('one another')/vocab\n",
        "print(\"p(one another) = \",god )\n",
        "\n",
        "b = text.count('one')/vocab\n",
        "print(\"p(one) = \", b)\n",
        "\n",
        "g = text.count('another')/vocab\n",
        "print('p(another) = ', g)\n",
        "pmi = math.log2(god / (b * g))\n",
        "print('pmi = ', pmi)"
      ]
    },
    {
      "cell_type": "markdown",
      "metadata": {
        "id": "OXnOt3ixzh_D"
      },
      "source": [
        "Since 'God bless' has a higher mutual information than 'one another', which indicates that it is more likely to be a collocation."
      ]
    }
  ],
  "metadata": {
    "colab": {
      "collapsed_sections": [],
      "provenance": []
    },
    "kernelspec": {
      "display_name": "Python 3.7.0 64-bit",
      "language": "python",
      "name": "python3"
    },
    "language_info": {
      "name": "python",
      "version": "3.7.0"
    },
    "vscode": {
      "interpreter": {
        "hash": "e534e48711db4d1e1c48977d0d14ff85b1f16d41bcc4fdfd88268a329b3c9d66"
      }
    }
  },
  "nbformat": 4,
  "nbformat_minor": 0
}
